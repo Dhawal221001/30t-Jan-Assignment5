{
 "cells": [
  {
   "cell_type": "markdown",
   "id": "d62d6374-cde7-4f47-be77-21568cf17c89",
   "metadata": {},
   "source": [
    "### 1."
   ]
  },
  {
   "cell_type": "code",
   "execution_count": 11,
   "id": "c8855d44-2de2-40a6-9f7b-4f42010d1197",
   "metadata": {},
   "outputs": [
    {
     "name": "stdin",
     "output_type": "stream",
     "text": [
      "Enter your Percentage:  81\n"
     ]
    },
    {
     "name": "stdout",
     "output_type": "stream",
     "text": [
      "Good, Your grade is B.\n"
     ]
    }
   ],
   "source": [
    "Percentage=int(input(\"Enter your Percentage: \"))\n",
    "if Percentage >90:\n",
    "    print(\"Excellent, Your grade is A.\")\n",
    "elif Percentage in range(81,91):\n",
    "    print(\"Good, Your grade is B.\")\n",
    "elif Percentage in range(60,81):\n",
    "    print(\"Your grade is C. \\n Can do better.\")\n",
    "else:\n",
    "    print(\"Your grade i D.\")\n",
    "    \n"
   ]
  },
  {
   "cell_type": "markdown",
   "id": "3d5cef23-8775-493c-b347-3cb639627e9b",
   "metadata": {},
   "source": [
    "## 2."
   ]
  },
  {
   "cell_type": "code",
   "execution_count": 15,
   "id": "8f37762d-267e-405d-9904-65607cd1027a",
   "metadata": {},
   "outputs": [
    {
     "name": "stdin",
     "output_type": "stream",
     "text": [
      "Enter the cost price fo bike:  48000\n"
     ]
    },
    {
     "name": "stdout",
     "output_type": "stream",
     "text": [
      "Road tax will be 2400.0\n"
     ]
    }
   ],
   "source": [
    "cp=int(input(\"Enter the cost price fo bike: \"))\n",
    "if cp>100000:\n",
    "    print(\"Road tax will be\", .15*cp)\n",
    "elif cp>50000 and cp<=100000:\n",
    "    print(\"Road tax will be\", .10*cp)\n",
    "else:\n",
    "    print(\"Road tax will be\", .05*cp)"
   ]
  },
  {
   "cell_type": "markdown",
   "id": "6f7b761c-13fc-40c1-b560-d7be0e2c6769",
   "metadata": {},
   "source": [
    "## 3."
   ]
  },
  {
   "cell_type": "code",
   "execution_count": 10,
   "id": "bc4b70a1-dfa6-46e8-b1c1-7b64d0fadf2f",
   "metadata": {},
   "outputs": [
    {
     "name": "stdin",
     "output_type": "stream",
     "text": [
      "Choose from the following city: \n",
      " 1.Delhi \n",
      " 2.Agra \n",
      " 3.Jaipur \n",
      "   2\n"
     ]
    },
    {
     "name": "stdout",
     "output_type": "stream",
     "text": [
      "Major monument in Agra is Taj Mahal.\n"
     ]
    }
   ],
   "source": [
    "city=int(input(\"Choose from the following city: \\n 1.Delhi \\n 2.Agra \\n 3.Jaipur \\n  \"))\n",
    "if city==1:\n",
    "    print(\"Major monument in Delhi is Red Fort.\")\n",
    "elif city==2:\n",
    "    print(\"Major monument in Agra is Taj Mahal.\")\n",
    "elif city==3:\n",
    "    print(\"Major monument in Jaipur is Jal Mahal\")\n",
    "else:\n",
    "    print(\"Choose from the given cities\")"
   ]
  },
  {
   "cell_type": "markdown",
   "id": "135a4bfc-3baa-473e-ba2c-1ede45e6e5c2",
   "metadata": {},
   "source": [
    "## 4."
   ]
  },
  {
   "cell_type": "code",
   "execution_count": 16,
   "id": "457159ea-8544-402a-93d0-58f4ab2867bd",
   "metadata": {},
   "outputs": [
    {
     "name": "stdin",
     "output_type": "stream",
     "text": [
      "Enter any integer:  555\n"
     ]
    },
    {
     "name": "stdout",
     "output_type": "stream",
     "text": [
      "4 number of times 555 can be divided by 3 before it is less than or equal to 10.\n"
     ]
    }
   ],
   "source": [
    "num=int(input(\"Enter any integer: \"))\n",
    "a=num\n",
    "for i in range(1,a):\n",
    "    num=int(num/3)\n",
    "    if num<=10:\n",
    "        break\n",
    "print(f\"{i} number of times {a} can be divided by 3 before it is less than or equal to 10.\")        "
   ]
  },
  {
   "cell_type": "markdown",
   "id": "10d1a4e2-b9cb-4e00-926b-7d4e59c3a54e",
   "metadata": {},
   "source": [
    "## 5."
   ]
  },
  {
   "cell_type": "markdown",
   "id": "23c5e542-7535-42ab-8643-ffc31b53aa0c",
   "metadata": {},
   "source": [
    "### While loop statements in Python are used to repeatedly execute a certain statement as long as the condition provided in the while loop statement stays true. While loops let the program control to iterate over a block of code."
   ]
  },
  {
   "cell_type": "code",
   "execution_count": 1,
   "id": "0abb7872-5d84-4b34-b2c1-69b95373610d",
   "metadata": {},
   "outputs": [
    {
     "name": "stdout",
     "output_type": "stream",
     "text": [
      "Roll number0\n",
      "Roll number1\n",
      "Roll number2\n",
      "Roll number3\n",
      "Roll number4\n",
      "Roll number5\n",
      "Roll number6\n",
      "Roll number7\n",
      "Roll number8\n",
      "Roll number9\n"
     ]
    }
   ],
   "source": [
    "i=0\n",
    "while i<10:\n",
    "    print(f\"Roll number{i}\")\n",
    "    i+=1\n",
    "    "
   ]
  },
  {
   "cell_type": "markdown",
   "id": "99581965-566f-4fd4-a117-d3f9e1907b9e",
   "metadata": {},
   "source": [
    "## 6."
   ]
  },
  {
   "cell_type": "code",
   "execution_count": 7,
   "id": "01e9c002-cab7-44f3-91bf-0b989344deaa",
   "metadata": {},
   "outputs": [
    {
     "name": "stdout",
     "output_type": "stream",
     "text": [
      "1  \n",
      "1 2  \n",
      "1 2 3  \n",
      "1 2 3 4  \n",
      "1 2 3 4 5  \n"
     ]
    }
   ],
   "source": [
    "i=1\n",
    "while i<=5:\n",
    "    j=1\n",
    "    while j<=i:\n",
    "        print(j,end=\" \")\n",
    "        j=j+1\n",
    "    print(\"\")\n",
    "    i=i+1"
   ]
  },
  {
   "cell_type": "code",
   "execution_count": 23,
   "id": "2e6a4a73-54f7-4881-b1ec-f29adf24f42a",
   "metadata": {},
   "outputs": [
    {
     "name": "stdout",
     "output_type": "stream",
     "text": [
      "    * \n",
      "   * * \n",
      "  * * * \n",
      " * * * * \n",
      "* * * * * \n"
     ]
    }
   ],
   "source": [
    "i=1\n",
    "while i<=5:\n",
    "    j=1\n",
    "    print(\" \"*(5-i),end=\"\")\n",
    "    while j<=i:\n",
    "        \n",
    "        print(\"*\",end=\" \")\n",
    "        \n",
    "        j=j+1\n",
    "    print(\"\")\n",
    "    i=i+1"
   ]
  },
  {
   "cell_type": "code",
   "execution_count": 32,
   "id": "5d1f0bbe-42af-4314-be19-1a044afb01db",
   "metadata": {},
   "outputs": [
    {
     "name": "stdout",
     "output_type": "stream",
     "text": [
      "5 5 5 5 5 \n",
      "4 4 4 4 \n",
      "3 3 3 \n",
      "2 2 \n",
      "1 \n"
     ]
    }
   ],
   "source": [
    "rows = 5\n",
    "for i in range(rows, 0, -1):\n",
    "    for j in range(0, i):\n",
    "        print(i, end=\" \")\n",
    "    print(\"\\r\")    "
   ]
  },
  {
   "cell_type": "markdown",
   "id": "1411f26d-0aeb-43a4-9971-6884143185ae",
   "metadata": {},
   "source": [
    "## 7."
   ]
  },
  {
   "cell_type": "code",
   "execution_count": 35,
   "id": "92e8825e-107f-428f-89c9-9ecf18f3dd7d",
   "metadata": {},
   "outputs": [
    {
     "name": "stdout",
     "output_type": "stream",
     "text": [
      "10\n",
      "9\n",
      "8\n",
      "7\n",
      "6\n",
      "5\n",
      "4\n",
      "3\n",
      "2\n",
      "1\n"
     ]
    }
   ],
   "source": [
    "i = 10\n",
    "while i>0:\n",
    "    print(i)\n",
    "    i = i - 1"
   ]
  },
  {
   "cell_type": "markdown",
   "id": "7807ce4d-f505-4ccd-8362-2983140acd8a",
   "metadata": {},
   "source": [
    "## 8."
   ]
  },
  {
   "cell_type": "code",
   "execution_count": 34,
   "id": "021d4d4a-3646-4212-8c4a-946278155709",
   "metadata": {},
   "outputs": [
    {
     "name": "stdout",
     "output_type": "stream",
     "text": [
      "10\n",
      "9\n",
      "8\n",
      "7\n",
      "6\n",
      "5\n",
      "4\n",
      "3\n",
      "2\n",
      "1\n"
     ]
    }
   ],
   "source": [
    "i = 10\n",
    "while i>0:\n",
    "    print(i)\n",
    "    i = i - 1"
   ]
  },
  {
   "cell_type": "code",
   "execution_count": null,
   "id": "ce461f6f-a024-40e3-bb4a-e12407e50ac5",
   "metadata": {},
   "outputs": [],
   "source": []
  }
 ],
 "metadata": {
  "kernelspec": {
   "display_name": "Python 3 (ipykernel)",
   "language": "python",
   "name": "python3"
  },
  "language_info": {
   "codemirror_mode": {
    "name": "ipython",
    "version": 3
   },
   "file_extension": ".py",
   "mimetype": "text/x-python",
   "name": "python",
   "nbconvert_exporter": "python",
   "pygments_lexer": "ipython3",
   "version": "3.10.8"
  }
 },
 "nbformat": 4,
 "nbformat_minor": 5
}
